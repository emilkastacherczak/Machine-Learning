{
 "cells": [
  {
   "cell_type": "code",
   "execution_count": 3,
   "id": "initial_id",
   "metadata": {},
   "outputs": [],
   "source": [
    "import pandas as pd\n",
    "import numpy as np\n",
    "import matplotlib.pyplot as plt\n",
    "from sklearn import datasets\n",
    "from sklearn.model_selection import train_test_split\n",
    "from scipy.spatial import distance\n",
    "from sklearn.metrics import accuracy_score"
   ]
  },
  {
   "cell_type": "code",
   "execution_count": 32,
   "id": "7a8e4100-4cdb-4438-910b-fbb532417f15",
   "metadata": {},
   "outputs": [
    {
     "name": "stdout",
     "output_type": "stream",
     "text": [
      "k = 1 Accuracy:  0.9555555555555556\n",
      "k = 2 Accuracy:  0.9111111111111111\n",
      "k = 3 Accuracy:  0.9555555555555556\n",
      "k = 4 Accuracy:  0.8888888888888888\n",
      "k = 5 Accuracy:  0.9111111111111111\n",
      "k = 6 Accuracy:  0.9111111111111111\n",
      "k = 7 Accuracy:  0.9555555555555556\n",
      "k = 8 Accuracy:  0.9333333333333333\n",
      "k = 9 Accuracy:  0.9555555555555556\n",
      "k = 10 Accuracy:  0.9333333333333333\n"
     ]
    },
    {
     "data": {
      "image/png": "[encoded data removed]",
      "text/plain": [
       "<Figure size 640x480 with 1 Axes>"
      ]
     },
     "metadata": {},
     "output_type": "display_data"
    }
   ],
   "source": [
    "#1\n",
    "\n",
    "iris = datasets.load_iris()\n",
    "\n",
    "X = iris.data\n",
    "y = iris.target\n",
    " \n",
    "#separate the set for teaching and testing, test_size - percentage share (example 70% for training and 30% for testing)\n",
    "X_train, X_test, y_train, y_test = train_test_split(X, y, test_size=0.3, random_state=13)\n",
    " \n",
    "class KNN:\n",
    "    def __init__(self, k):\n",
    "        self.k = k\n",
    "\n",
    "    def fit(self, X, y):\n",
    "        self.X_train = X\n",
    "        self.y_train = y\n",
    "\n",
    "    def predict(self, X_test):\n",
    "        predictions = []\n",
    "        for x in X_test:\n",
    "            #dst = distance.euclidean(self.X_train[0], x)\n",
    "            dst = np.sqrt(np.sum((self.X_train - x)**2, axis=1))\n",
    "            knn = np.argsort(dst)[:self.k]\n",
    "            knn_labels = self.y_train[knn]\n",
    "            labels, counts = np.unique(knn_labels, return_counts=True)\n",
    "            predictions.append(labels[np.argmax(counts)])\n",
    "        return predictions\n",
    "\n",
    "error = []\n",
    "for k in range(1, 11):\n",
    "    knn = KNN(k=k)\n",
    "    knn.fit(X_train, y_train)\n",
    "    y_pred = knn.predict(X_test)\n",
    "\n",
    "    accuracy = accuracy_score(y_test, y_pred)\n",
    "    print('k =', k, 'Accuracy: ', accuracy)\n",
    "\n",
    "    error.append(len(y_test) - accuracy_score(y_test, y_pred, normalize=False))\n",
    "\n",
    "plt.plot(range(1, 11), error)\n",
    "plt.xlabel('k')\n",
    "plt.ylabel('error')\n",
    "plt.show()"
   ]
  },
  {
   "cell_type": "code",
   "execution_count": 61,
   "id": "bd5bd7d0-de91-47e2-8e11-eb002ee198ca",
   "metadata": {},
   "outputs": [
    {
     "name": "stdout",
     "output_type": "stream",
     "text": [
      "k = 1 Accuracy:  0.9555555555555556\n",
      "k = 2 Accuracy:  0.9111111111111111\n",
      "k = 3 Accuracy:  0.9555555555555556\n",
      "k = 4 Accuracy:  0.8888888888888888\n",
      "k = 5 Accuracy:  0.9111111111111111\n",
      "k = 6 Accuracy:  0.9111111111111111\n",
      "k = 7 Accuracy:  0.9555555555555556\n",
      "k = 8 Accuracy:  0.9333333333333333\n",
      "k = 9 Accuracy:  0.9555555555555556\n",
      "k = 10 Accuracy:  0.9333333333333333\n"
     ]
    }
   ],
   "source": [
    "#2\n",
    "\n",
    "from sklearn.neighbors import KNeighborsClassifier\n",
    "\n",
    "neighbors = np.arange(1, 11, 1)\n",
    "for k in neighbors:\n",
    "    neigh = KNeighborsClassifier(n_neighbors=k)\n",
    "    neigh.fit(X_train, y_train)\n",
    "    y_pred = neigh.predict(X_test)\n",
    "    y_train_pred = neigh.predict(X_train)\n",
    "    accuracy = accuracy_score(y_test, y_pred)\n",
    "\n",
    "    # plt.figure()\n",
    "    # plt.plot(y_train, y_train_pred, 'o')\n",
    "    # plt.plot(y_test, y_pred, 'x')\n",
    "    # plt.show()\n",
    "    print('k =', k, 'Accuracy: ', accuracy)"
   ]
  },
  {
   "cell_type": "code",
   "execution_count": 60,
   "id": "010f37bc-0d95-4e5a-b2a5-1427e4c01169",
   "metadata": {},
   "outputs": [
    {
     "name": "stdout",
     "output_type": "stream",
     "text": [
      "[0]\n",
      "[[1. 0. 0.]]\n"
     ]
    }
   ],
   "source": [
    "#3 EXAMPLE\n",
    "\n",
    "from sklearn import tree\n",
    "from six import StringIO \n",
    "import pydot \n",
    "\n",
    "clf = tree.DecisionTreeClassifier()\n",
    "clf.fit(iris.data, iris.target)\n",
    "print(clf.predict(iris.data[:1, :]))\n",
    "print(clf.predict_proba(iris.data[:1, :]))\n",
    "\n",
    "dot_data = StringIO() \n",
    "tree.export_graphviz(clf, out_file=dot_data) \n",
    "graph = pydot.graph_from_dot_data(dot_data.getvalue()) \n",
    "#graph[0].write(\"iris.pdf\")"
   ]
  },
  {
   "cell_type": "code",
   "execution_count": 73,
   "id": "e465eab5-8384-416b-bf66-9713c16a2e43",
   "metadata": {},
   "outputs": [
    {
     "ename": "ModuleNotFoundError",
     "evalue": "No module named 'tensorflow'",
     "output_type": "error",
     "traceback": [
      "\u001b[1;31m---------------------------------------------------------------------------\u001b[0m",
      "\u001b[1;31mModuleNotFoundError\u001b[0m                       Traceback (most recent call last)",
      "Cell \u001b[1;32mIn[73], line 8\u001b[0m\n\u001b[0;32m      5\u001b[0m \u001b[38;5;28;01mfrom\u001b[39;00m \u001b[38;5;21;01msklearn\u001b[39;00m\u001b[38;5;21;01m.\u001b[39;00m\u001b[38;5;21;01mmodel_selection\u001b[39;00m \u001b[38;5;28;01mimport\u001b[39;00m train_test_split\n\u001b[0;32m      6\u001b[0m \u001b[38;5;28;01mfrom\u001b[39;00m \u001b[38;5;21;01mscipy\u001b[39;00m\u001b[38;5;21;01m.\u001b[39;00m\u001b[38;5;21;01mio\u001b[39;00m \u001b[38;5;28;01mimport\u001b[39;00m loadmat\n\u001b[1;32m----> 8\u001b[0m \u001b[38;5;28;01mfrom\u001b[39;00m \u001b[38;5;21;01mtensorflow\u001b[39;00m \u001b[38;5;28;01mimport\u001b[39;00m keras\n\u001b[0;32m      9\u001b[0m \u001b[38;5;28;01mfrom\u001b[39;00m \u001b[38;5;21;01mtensorflow\u001b[39;00m\u001b[38;5;21;01m.\u001b[39;00m\u001b[38;5;21;01mkeras\u001b[39;00m \u001b[38;5;28;01mimport\u001b[39;00m layers\n\u001b[0;32m     10\u001b[0m \u001b[38;5;28;01mfrom\u001b[39;00m \u001b[38;5;21;01mkeras\u001b[39;00m\u001b[38;5;21;01m.\u001b[39;00m\u001b[38;5;21;01mdatasets\u001b[39;00m \u001b[38;5;28;01mimport\u001b[39;00m mnist\n",
      "\u001b[1;31mModuleNotFoundError\u001b[0m: No module named 'tensorflow'"
     ]
    }
   ],
   "source": [
    "#3 EXERCISE\n",
    "\n",
    "from sklearn.metrics import classification_report, confusion_matrix, f1_score\n",
    "from sklearn import tree\n",
    "from sklearn.model_selection import train_test_split\n",
    "from scipy.io import loadmat\n",
    "\n",
    "from tensorflow import keras\n",
    "from tensorflow.keras import layers\n",
    "from keras.datasets import mnist\n"
   ]
  },
  {
   "cell_type": "code",
   "execution_count": null,
   "id": "1361ea6c-c255-4867-9268-32da4abe3638",
   "metadata": {},
   "outputs": [],
   "source": []
  }
 ],
 "metadata": {
  "kernelspec": {
   "display_name": "Python 3 (ipykernel)",
   "language": "python",
   "name": "python3"
  },
  "language_info": {
   "codemirror_mode": {
    "name": "ipython",
    "version": 3
   },
   "file_extension": ".py",
   "mimetype": "text/x-python",
   "name": "python",
   "nbconvert_exporter": "python",
   "pygments_lexer": "ipython3",
   "version": "3.12.0"
  }
 },
 "nbformat": 4,
 "nbformat_minor": 5
}
