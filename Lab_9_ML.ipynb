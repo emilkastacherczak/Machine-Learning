{
 "cells": [
  {
   "cell_type": "code",
   "execution_count": 6,
   "id": "initial_id",
   "metadata": {},
   "outputs": [],
   "source": [
    "import numpy as np\n",
    "import matplotlib.pyplot as plt\n",
    "\n",
    "from sklearn.datasets import load_wine\n",
    "from sklearn.tree import DecisionTreeClassifier\n",
    "from sklearn.ensemble import BaggingClassifier\n",
    "from sklearn.ensemble import AdaBoostClassifier\n",
    "from sklearn.ensemble import GradientBoostingClassifier\n",
    "from sklearn.model_selection import train_test_split"
   ]
  },
  {
   "cell_type": "code",
   "execution_count": 7,
   "id": "0b099e7f-014a-4f57-a767-9b985200cc63",
   "metadata": {},
   "outputs": [],
   "source": [
    "wine = load_wine()\n",
    "X = wine.data\n",
    "y = wine.target\n",
    "\n",
    "X_train, X_test, y_train, y_test = train_test_split(X, y, test_size=0.4, random_state=1)"
   ]
  },
  {
   "cell_type": "code",
   "execution_count": 15,
   "id": "b85f50cd-1a48-4115-81d9-be5df7e53f60",
   "metadata": {},
   "outputs": [],
   "source": [
    "#In this exercise you will compare the accuracy of various types of classifier ensembles\n",
    "\n",
    "tree = DecisionTreeClassifier(min_samples_leaf=3, random_state=1)\n",
    "bagg = BaggingClassifier(n_estimators=50,random_state=1)\n",
    "ada = AdaBoostClassifier(n_estimators=50, algorithm=\"SAMME\", random_state=1)\n",
    "grad = GradientBoostingClassifier(n_estimators=50, learning_rate=1.0, subsample=0.5, max_depth=1, random_state=1, min_samples_leaf=3)"
   ]
  },
  {
   "cell_type": "code",
   "execution_count": 23,
   "id": "8d55805e-ffa3-45ca-b007-bc0e185bab25",
   "metadata": {},
   "outputs": [
    {
     "name": "stdout",
     "output_type": "stream",
     "text": [
      "Tree: [0.94444444 0.80555556 0.80555556 0.91428571 0.97142857] Average accuracy: 0.8882539682539681\n",
      "Bagging: [0.94444444 0.94444444 0.94444444 0.97142857 1.        ] Average accuracy: 0.9609523809523809\n",
      "AdaBoost: [0.83333333 0.91666667 0.91666667 1.         1.        ] Average accuracy: 0.9333333333333332\n",
      "GradientBoosting: [0.91666667 0.97222222 0.97222222 0.65714286 0.97142857] Average accuracy: 0.8979365079365079\n"
     ]
    }
   ],
   "source": [
    "#For each model determine its average accuracy using 5-fold stratified cross-validation\n",
    "from sklearn.model_selection import cross_val_score\n",
    "\n",
    "tree_sc = cross_val_score(tree, X, y)\n",
    "bagg_sc = cross_val_score(bagg, X, y)\n",
    "ada_sc = cross_val_score(ada, X, y)\n",
    "grad_sc = cross_val_score(grad, X, y)\n",
    "                          \n",
    "print('Tree:', tree_sc, 'Average accuracy:', tree_sc.mean())\n",
    "print('Bagging:', bagg_sc, 'Average accuracy:', bagg_sc.mean())\n",
    "print('AdaBoost:', ada_sc, 'Average accuracy:', ada_sc.mean())\n",
    "print('GradientBoosting:', grad_sc, 'Average accuracy:', grad_sc.mean())"
   ]
  },
  {
   "cell_type": "code",
   "execution_count": 35,
   "id": "273750c9-fd14-4b18-bc1c-90a822e351a5",
   "metadata": {},
   "outputs": [
    {
     "data": {
      "text/plain": [
       "[<matplotlib.lines.Line2D at 0x201ded2d820>]"
      ]
     },
     "execution_count": 35,
     "metadata": {},
     "output_type": "execute_result"
    },
    {
     "data": {
      "image/png": "[encoded data removed]",
      "text/plain": [
       "<Figure size 640x480 with 1 Axes>"
      ]
     },
     "metadata": {},
     "output_type": "display_data"
    }
   ],
   "source": [
    "#Determine an approximated number of iterations after which the Gradient Boosting model yields almost no further improvement\n",
    "\n",
    "#Fit the model on the whole dataset\n",
    "model = grad.fit(X_train, y_train)\n",
    "\n",
    "#Compute the cumulative improvement\n",
    "impr = np.cumsum(grad.oob_improvement_)\n",
    "\n",
    "#Prepare a plot of the above-mentioned OOB loss with respect to the number of iterations\n",
    "x = np.linspace(0, 100, len(impr))\n",
    "plt.plot(x, impr)"
   ]
  }
 ],
 "metadata": {
  "kernelspec": {
   "display_name": "Python 3 (ipykernel)",
   "language": "python",
   "name": "python3"
  },
  "language_info": {
   "codemirror_mode": {
    "name": "ipython",
    "version": 3
   },
   "file_extension": ".py",
   "mimetype": "text/x-python",
   "name": "python",
   "nbconvert_exporter": "python",
   "pygments_lexer": "ipython3",
   "version": "3.12.0"
  }
 },
 "nbformat": 4,
 "nbformat_minor": 5
}
